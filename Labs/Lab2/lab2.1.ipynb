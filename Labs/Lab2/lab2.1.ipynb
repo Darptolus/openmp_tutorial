{
 "cells": [
  {
   "cell_type": "markdown",
   "metadata": {},
   "source": [
    "# Lab2: Parallelism Generation in Multithreading\n",
    "\n",
    "The objective of this lab is to better understand parallelism generation in OpenMP. Parallelism generation is the ability to create workers. Some of these concepts were briefly introduced in [lab1](../Lab1/lab1.ipynb). In this lab we will describe them more in depth\n",
    "\n",
    "## Table of content:"
   ]
  },
  {
   "cell_type": "markdown",
   "metadata": {},
   "source": [
    "## Parallel regions\n",
    "Since its origin, OpenMP has focus on parallel regions. Parallel regions are created with the `#pragma omp parallel` directive, and its purpose is to generate a collection of software threads, each entering the same region of code.\n",
    "\n",
    "The `parallel` construct generates a `team of threads` containing one or more threads. There are different factors that influence how many threads are created and the user have some control over these. One factor that we cannot control as users is the system limitation. OpenMP is portable across systems, however, each system may impose limitations on how many threads can be generated. For example, an embedded system with a light weight operating system may not allow thread oversubscription (see lab 1 for details on this), a batch scheduler may restrict the number of threads in an application, or an OpenMP compiler implementation may decide to limit the number of threads it can handle to a maximum number.\n",
    "\n",
    "There are two rules of thumb:\n",
    "1. Number of threads used by the application is not guaranteed to be equal to the number of threads requested. The actual number of threads may be less or implementation defined. It is not a good idea for applications to rely on the number of threads as this will limit portability (Use discretion here, as there are good reasons to break this rule.)\n",
    "2. System oversubscription is not recommended, when all the threads will be constantly busy, as this has demonstrated to reduce application performance. Still, some applications use thread oversubscription to have some threads that do little work. \n",
    "\n",
    "Elements that affect the number of threads:\n",
    "* The `OMP_NUM_THREADS` environment variable\n",
    "* The `omp_set_num_threads()` API call\n",
    "* The `num_threads()` clause of the `parallel` construct\n",
    "* The `if()` clause of the `parallel` construct\n",
    "* The `OMP_DYNAMIC` environment variable\n",
    "* The `omp_set_dynamic()` API call\n",
    "* The `thread_limit()` clause in the `teams` directive\n",
    "* The `OMP_THREAD_LIMIT` and `OMP_TEAMS_THREAD_LIMIT` environment variable\n",
    "* The `OMP_NESTED` and `OMP_MAX_ACTIVE_LEVELS` environment variables\n",
    "\n",
    "In this section we will try to cover most of these. For the following example, we assume that we are running on a system that supports more threads.\n",
    "\n",
    "### OMP_NUM_THREADS environment variable\n",
    "Sets the default value to be use by `parallel` regions inside the OpenMP code.\n",
    "\n",
    "For the following hello world code\n",
    "\n",
    "```C\n",
    "#pragma omp parallel\n",
    "{\n",
    "    printf(\"Hello from %d out of \\n\", omp_get_thread_num(), omp_get_num_threads());\n",
    "}\n",
    "```\n",
    "\n",
    "The number of threads can be changed during runtime by using the `OMP_NUM_THREADS` environment variable, without the need to recompile"
   ]
  },
  {
   "cell_type": "code",
   "execution_count": null,
   "metadata": {},
   "outputs": [],
   "source": [
    "# First, let's compile it\n",
    "!clang -fopenmp C/hello_world.c -o C/hello_world.exe"
   ]
  },
  {
   "cell_type": "code",
   "execution_count": null,
   "metadata": {},
   "outputs": [],
   "source": [
    "# Now let's run it with different values\n",
    "\n",
    "#Running with default num threads. Implementation defined\n",
    "!C/./hello_world.exe"
   ]
  },
  {
   "cell_type": "code",
   "execution_count": null,
   "metadata": {},
   "outputs": [],
   "source": [
    "#Running with different num threads modifying OMP_NUM_THREADS\n",
    "!OMP_NUM_THREADS=3 C/./hello_world.exe"
   ]
  },
  {
   "cell_type": "code",
   "execution_count": null,
   "metadata": {},
   "outputs": [],
   "source": [
    "#Running with different num threads modifying OMP_NUM_THREADS\n",
    "!OMP_NUM_THREADS=5 C/./hello_world.exe"
   ]
  },
  {
   "cell_type": "markdown",
   "metadata": {},
   "source": [
    "Note:\n",
    "```\n",
    "Environment variables depend on the shell you're using. Here I am assuming bash and I am using the inline format. In bash you can also call `export` command prior to the execution of the program. Use your favorite shell, but change the code appropriately\n",
    "```"
   ]
  },
  {
   "cell_type": "markdown",
   "metadata": {},
   "source": [
    "You can check this code in [hello_world.c](C/hello_world.c)."
   ]
  },
  {
   "cell_type": "markdown",
   "metadata": {},
   "source": [
    "## OMP_THREAD_LIMIT environment variable\n",
    "\n",
    "This environment variable presents an additional limitation in the number of threads that are used, regardless of the number of threads requested. Using the same example above, we can set both environment variables to demonstrate the precedence order."
   ]
  },
  {
   "cell_type": "code",
   "execution_count": null,
   "metadata": {},
   "outputs": [],
   "source": [
    "#Building the hello world program\n",
    "!clang -fopenmp C/./hello_world.exe -o C/hello_world.exe"
   ]
  },
  {
   "cell_type": "code",
   "execution_count": null,
   "metadata": {},
   "outputs": [],
   "source": [
    "# Running it with OMP_THREAD_LIMIT\n",
    "!OMP_THREAD_LIMIT=4 OMP_NUM_THREADS=1000 C/./hello_world.exe"
   ]
  },
  {
   "cell_type": "markdown",
   "metadata": {},
   "source": [
    "## Programs relying on number of threads\n",
    "Notice that it is possible to create programs that lock or fail due to insufficient number of threads. Take for example the following code:\n",
    "\n",
    "```C\n",
    "int a_var = 0;\n",
    "#pragma omp parallel shared(a_var)\n",
    "{\n",
    "    if (omp_get_thread_num()==0) {\n",
    "        while(a_var != 0);\n",
    "    } else if {\n",
    "        #pragma omp atomic\n",
    "        a_var++;\n",
    "    }\n",
    "}\n",
    "```\n",
    "\n",
    "Really important note:\n",
    "```\n",
    "The example above is a terrible code meant only to demonstrate that it is possible to create programs that rely on a given number of threads, in this case it must be more than 1. Please use caution when using this code, and don't blame me.\n",
    "```\n",
    "\n"
   ]
  }
 ],
 "metadata": {
  "language_info": {
   "name": "python"
  },
  "orig_nbformat": 4
 },
 "nbformat": 4,
 "nbformat_minor": 2
}
