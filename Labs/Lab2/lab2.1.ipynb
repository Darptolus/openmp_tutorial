{
 "cells": [
  {
   "cell_type": "markdown",
   "metadata": {},
   "source": [
    "# Lab2: Parallelism Generation in Multithreading\n",
    "\n",
    "The objective of this lab is to better understand parallelism generation in OpenMP. Parallelism generation is the ability to create workers. Some of these concepts were briefly introduced in [lab1](../Lab1/lab1.ipynb). In this lab we will describe them more in depth\n",
    "\n",
    "## Table of content:\n",
    "\n",
    "1. Parallel regions\n",
    "    1. OMP_NUM_THREADS environment variable\n",
    "    2. OMP_THREAD_LIMIT environment variable\n",
    "    3. omp_set_num_threads() API call\n",
    "    4. mixed number of threads\n",
    "    5. if() clause\n",
    "    6. Dynamic parallelism\n",
    "    7. Programs Relying on the number of threads\n",
    "2. Teams regions\n",
    "    3. thread_limit() clause\n",
    "3. Parallel and teams\n",
    "4. Nested parallelism"
   ]
  },
  {
   "cell_type": "markdown",
   "metadata": {},
   "source": [
    "## Parallel regions\n",
    "Since its origin, OpenMP has focus on parallel regions. Parallel regions are created with the `#pragma omp parallel` directive, and its purpose is to generate a collection of software threads, each entering the same region of code.\n",
    "\n",
    "The `parallel` construct generates a `team of threads` containing one or more threads. There are different factors that influence how many threads are created and the user have some control over these. One factor that we cannot control as users is the system limitation. OpenMP is portable across systems, however, each system may impose limitations on how many threads can be generated. For example, an embedded system with a light weight operating system may not allow thread oversubscription (see lab 1 for details on this), a batch scheduler may restrict the number of threads in an application, or an OpenMP compiler implementation may decide to limit the number of threads it can handle to a maximum number.\n",
    "\n",
    "There are two rules of thumb:\n",
    "1. Number of threads used by the application is not guaranteed to be equal to the number of threads requested. The actual number of threads may be less or implementation defined. It is not a good idea for applications to rely on the number of threads as this will limit portability (Use discretion here, as there are good reasons to break this rule.)\n",
    "2. System oversubscription is not recommended, when all the threads will be constantly busy, as this has demonstrated to reduce application performance. Still, some applications use thread oversubscription to have some threads that do little work. \n",
    "\n",
    "Elements that affect the number of threads:\n",
    "* The `OMP_NUM_THREADS` environment variable\n",
    "* The `omp_set_num_threads()` API call\n",
    "* The `num_threads()` clause of the `parallel` construct\n",
    "* The `if()` clause of the `parallel` construct\n",
    "* The `OMP_DYNAMIC` environment variable\n",
    "* The `omp_set_dynamic()` API call\n",
    "* The `thread_limit()` clause in the `teams` directive\n",
    "* The `OMP_THREAD_LIMIT` and `OMP_TEAMS_THREAD_LIMIT` environment variable\n",
    "* The `OMP_NESTED` and `OMP_MAX_ACTIVE_LEVELS` environment variables\n",
    "\n",
    "In this section we will try to cover most of these. For the following example, we assume that we are running on a system that supports more threads.\n",
    "\n",
    "### OMP_NUM_THREADS environment variable\n",
    "Sets the default value to be use by `parallel` regions inside the OpenMP code.\n",
    "\n",
    "For the following hello world code\n",
    "\n",
    "```C\n",
    "#pragma omp parallel\n",
    "{\n",
    "    printf(\"Hello from %d out of \\n\", omp_get_thread_num(), omp_get_num_threads());\n",
    "}\n",
    "```\n",
    "\n",
    "The number of threads can be changed during runtime by using the `OMP_NUM_THREADS` environment variable, without the need to recompile"
   ]
  },
  {
   "cell_type": "code",
   "execution_count": 1,
   "metadata": {},
   "outputs": [],
   "source": [
    "# First, let's compile it\n",
    "!clang -fopenmp C/hello_world.c -o C/hello_world.exe"
   ]
  },
  {
   "cell_type": "code",
   "execution_count": 2,
   "metadata": {},
   "outputs": [
    {
     "name": "stdout",
     "output_type": "stream",
     "text": [
      "Hi from 3 out of 6\n",
      "Hi from 4 out of 6\n",
      "Hi from 2 out of 6\n",
      "Hi from 1 out of 6\n",
      "Hi from 5 out of 6\n",
      "Hi from 0 out of 6\n"
     ]
    }
   ],
   "source": [
    "# Now let's run it with different values\n",
    "\n",
    "#Running with default num threads. Implementation defined\n",
    "!C/./hello_world.exe"
   ]
  },
  {
   "cell_type": "code",
   "execution_count": 3,
   "metadata": {},
   "outputs": [
    {
     "name": "stdout",
     "output_type": "stream",
     "text": [
      "Hi from 0 out of 3\n",
      "Hi from 1 out of 3\n",
      "Hi from 2 out of 3\n"
     ]
    }
   ],
   "source": [
    "#Running with different num threads modifying OMP_NUM_THREADS\n",
    "!OMP_NUM_THREADS=3 C/./hello_world.exe"
   ]
  },
  {
   "cell_type": "code",
   "execution_count": 4,
   "metadata": {},
   "outputs": [
    {
     "name": "stdout",
     "output_type": "stream",
     "text": [
      "Hi from 0 out of 5\n",
      "Hi from 3 out of 5\n",
      "Hi from 1 out of 5\n",
      "Hi from 2 out of 5\n",
      "Hi from 4 out of 5\n"
     ]
    }
   ],
   "source": [
    "#Running with different num threads modifying OMP_NUM_THREADS\n",
    "!OMP_NUM_THREADS=5 C/./hello_world.exe"
   ]
  },
  {
   "cell_type": "markdown",
   "metadata": {},
   "source": [
    "Note:\n",
    "```\n",
    "Environment variables depend on the shell you're using. Here I am assuming bash and I am using the inline format. In bash you can also call `export` command prior to the execution of the program. Use your favorite shell, but change the code appropriately\n",
    "```"
   ]
  },
  {
   "cell_type": "markdown",
   "metadata": {},
   "source": [
    "You can check this code in [hello_world.c](C/hello_world.c)."
   ]
  },
  {
   "cell_type": "markdown",
   "metadata": {},
   "source": [
    "## OMP_THREAD_LIMIT environment variable\n",
    "\n",
    "This environment variable presents an additional limitation in the number of threads that are used, regardless of the number of threads requested. Using the same example above, we can set both environment variables to demonstrate the precedence order."
   ]
  },
  {
   "cell_type": "code",
   "execution_count": 5,
   "metadata": {},
   "outputs": [],
   "source": [
    "#Building the hello world program\n",
    "!clang -fopenmp C/./hello_world.c -o C/hello_world.exe"
   ]
  },
  {
   "cell_type": "code",
   "execution_count": 6,
   "metadata": {},
   "outputs": [
    {
     "name": "stdout",
     "output_type": "stream",
     "text": [
      "OMP: Warning #96: Cannot form a team with 1000 threads, using 4 instead.\n",
      "OMP: Hint Consider unsetting KMP_DEVICE_THREAD_LIMIT (KMP_ALL_THREADS), KMP_TEAMS_THREAD_LIMIT, and OMP_THREAD_LIMIT (if any are set).\n",
      "Hi from 0 out of 4\n",
      "Hi from 3 out of 4\n",
      "Hi from 2 out of 4\n",
      "Hi from 1 out of 4\n"
     ]
    }
   ],
   "source": [
    "# Running it with OMP_THREAD_LIMIT\n",
    "!OMP_THREAD_LIMIT=4 OMP_NUM_THREADS=1000 C/./hello_world.exe"
   ]
  },
  {
   "cell_type": "markdown",
   "metadata": {},
   "source": [
    "Some compilers, like clang, may give a warning about not being able to satisfied the requested number of threads."
   ]
  },
  {
   "cell_type": "markdown",
   "metadata": {},
   "source": [
    "## omp_set_num_threads() API call\n",
    "Another way of setting the number of threads before the execution of a parallel region is to use the `omp_set_num_threads()` API function call. This call will have precedence over the environment variable OMP_NUM_THREADS.\n",
    "\n",
    "Take for example the following code that sets the number of threads to 4 before the parallel region.\n",
    "\n",
    "```C\n",
    "omp_set_num_threads(4);\n",
    "#pragma omp parallel\n",
    "{\n",
    "    printf(\"Hi from %d out of %d\\n\", omp_get_thread_num(), omp_get_num_threads());\n",
    "}\n",
    "```"
   ]
  },
  {
   "cell_type": "code",
   "execution_count": 29,
   "metadata": {},
   "outputs": [],
   "source": [
    "#Building the program\n",
    "!clang -fopenmp C/omp_set_num_threads.c -o C/omp_set_num_threads.exe"
   ]
  },
  {
   "cell_type": "code",
   "execution_count": 30,
   "metadata": {},
   "outputs": [
    {
     "name": "stdout",
     "output_type": "stream",
     "text": [
      "Setting the number of threads to 4\n",
      "Hi from 0 out of 4\n",
      "Hi from 3 out of 4\n",
      "Hi from 1 out of 4\n",
      "Hi from 2 out of 4\n"
     ]
    }
   ],
   "source": [
    "#Running the program\n",
    "!C/./omp_set_num_threads.exe"
   ]
  },
  {
   "cell_type": "code",
   "execution_count": 31,
   "metadata": {},
   "outputs": [
    {
     "name": "stdout",
     "output_type": "stream",
     "text": [
      "Setting the number of threads to 4\n",
      "Hi from 0 out of 4\n",
      "Hi from 3 out of 4\n",
      "Hi from 2 out of 4\n",
      "Hi from 1 out of 4\n"
     ]
    }
   ],
   "source": [
    "#Running the program trying to force num threads with env variable\n",
    "!OMP_NUM_THREADS=1000 C/./omp_set_num_threads.exe"
   ]
  },
  {
   "cell_type": "markdown",
   "metadata": {},
   "source": [
    "The environment variable is ignored, because the API call has higher precedence.\n",
    "\n",
    "To play with this code go to [omp_set_num_threads.c](C/omp_set_num_threads.c)"
   ]
  },
  {
   "cell_type": "markdown",
   "metadata": {},
   "source": [
    "## num_threads() clause\n",
    "\n",
    "Yet another way to change the number of threads is with the `num_threads()` clause supported by the `parallel` construct. The clause applied directly to the parallel region has higher precedence in comparison to the `OMP_NUM_THREADS` environment variable, and the `omp_set_num_threads()` API call.\n",
    "\n",
    "Take for example the following code\n",
    "\n",
    "```C\n",
    "#pragma omp parallel num_threads(4)\n",
    "{\n",
    "    printf(\"Hi from %d out of %d\\n\", omp_get_thread_num(), omp_get_num_threads());\n",
    "}\n",
    "```"
   ]
  },
  {
   "cell_type": "code",
   "execution_count": 32,
   "metadata": {},
   "outputs": [],
   "source": [
    "#Building the program\n",
    "!clang -fopenmp C/num_threads.c -o C/num_threads.exe"
   ]
  },
  {
   "cell_type": "code",
   "execution_count": 33,
   "metadata": {},
   "outputs": [
    {
     "name": "stdout",
     "output_type": "stream",
     "text": [
      "Hi from 1 out of 4\n",
      "Hi from 0 out of 4\n",
      "Hi from 2 out of 4\n",
      "Hi from 3 out of 4\n"
     ]
    }
   ],
   "source": [
    "# Running\n",
    "!C/./num_threads.exe"
   ]
  },
  {
   "cell_type": "code",
   "execution_count": 35,
   "metadata": {},
   "outputs": [
    {
     "name": "stdout",
     "output_type": "stream",
     "text": [
      "Hi from 2 out of 4\n",
      "Hi from 1 out of 4\n",
      "Hi from 0 out of 4\n",
      "Hi from 3 out of 4\n"
     ]
    }
   ],
   "source": [
    "# Running with OMP_NUM_THREADS to demonstrate precedence\n",
    "!OMP_NUM_THREADS=1000 C/./num_threads.exe"
   ]
  },
  {
   "cell_type": "markdown",
   "metadata": {},
   "source": [
    "You can play with this code in [num_threads.c](C/num_threads.c)"
   ]
  },
  {
   "cell_type": "markdown",
   "metadata": {},
   "source": [
    "## Mixed number of threads\n",
    "\n",
    "It is not necessary to have the same number of threads for all your program. Furthermore, it is possible to use the different aforementioned methods within the same program and rely on their changes to the Internal Control Variables (ICVs)\n",
    "\n",
    "The following example uses the default number of threads or `OMP_NUM_THREADS`, the `omp_set_num_threads()` API call and the `num_threads()` clauses within the same program. "
   ]
  },
  {
   "cell_type": "code",
   "execution_count": 38,
   "metadata": {},
   "outputs": [],
   "source": [
    "# Building\n",
    "!clang -fopenmp C/num_threads_mixed.c -o C/num_threads_mixed.exe"
   ]
  },
  {
   "cell_type": "code",
   "execution_count": 39,
   "metadata": {},
   "outputs": [
    {
     "name": "stdout",
     "output_type": "stream",
     "text": [
      "Using default or OMP_NUM_THREADS from 0 out of 1\n",
      "Using omp_set_num_threads() from 0 out of 2\n",
      "Using omp_set_num_threads() from 1 out of 2\n",
      "using num_threads() clause from 0 out of 4\n",
      "using num_threads() clause from 1 out of 4\n",
      "using num_threads() clause from 2 out of 4\n",
      "using num_threads() clause from 3 out of 4\n"
     ]
    }
   ],
   "source": [
    "# Running\n",
    "!OMP_NUM_THREADS=1 C/./num_threads_mixed.exe"
   ]
  },
  {
   "cell_type": "markdown",
   "metadata": {},
   "source": [
    "You can play with this code in [num_threads_mixed.c](C/num_threads_mixed.c)"
   ]
  },
  {
   "cell_type": "markdown",
   "metadata": {},
   "source": [
    "## The if() clause\n",
    "\n",
    "The `if()` clause is used to enable or disable different directives (e.g. threads, teams, and target). In the context of number of threads, the `if()` clause will create a region that uses only a single thread, regardless of the ICV variable that controls the number of threads.\n",
    "\n",
    "Take for example the following code\n",
    "```C\n",
    "#pragma omp parallel if(false) num_threads(1000)\n",
    "{\n",
    "    printf(\"Hi from %d out of %d\\n\", omp_get_thread_num(), omp_get_num_threads());\n",
    "}\n",
    "```\n",
    "\n",
    "In this case, the parallel region will only contain a single thread."
   ]
  },
  {
   "cell_type": "code",
   "execution_count": 42,
   "metadata": {},
   "outputs": [],
   "source": [
    "# Building\n",
    "!clang -fopenmp C/parallel_if.c -o C/parallel_if.exe"
   ]
  },
  {
   "cell_type": "code",
   "execution_count": 43,
   "metadata": {},
   "outputs": [
    {
     "name": "stdout",
     "output_type": "stream",
     "text": [
      "Hi from 0 out of 1\n"
     ]
    }
   ],
   "source": [
    "# Running\n",
    "!C/./parallel_if.exe"
   ]
  },
  {
   "cell_type": "markdown",
   "metadata": {},
   "source": [
    "You can play with this code changing the file [parallel_if.c](C/parallel_if.c)\n",
    "\n",
    "Note:\n",
    "```\n",
    "Number of threads equal to one and no OpenMP parallel region seem to be identical, However, the openMP parallel region is still outlined and sent through the runtime. This can lead to missed opportunities during compilation, that can make a program with if(false) slower than a program without no OpenMP at all. Depending on the compiler implementation, an if()` clause that evaluates to false during compile time, may be optimized. Johannes Doerfart and Hal Finkel have an excellent paper on this called \"Compiler optimizations For OpenMP\". A recommended reading on this topic. \n",
    "```"
   ]
  },
  {
   "cell_type": "markdown",
   "metadata": {},
   "source": [
    "## Programs relying on number of threads\n",
    "Notice that it is possible to create programs that lock or fail due to insufficient number of threads. Take for example the following code:\n",
    "\n",
    "```C\n",
    "int a_var = 0;\n",
    "#pragma omp parallel shared(a_var)\n",
    "{\n",
    "    if (omp_get_thread_num() == 0) {\n",
    "        while(a_var == 0);\n",
    "    } else {\n",
    "        #pragma omp atomic\n",
    "        a_var++;\n",
    "    }\n",
    "}\n",
    "```\n",
    "\n",
    "Really important note:\n",
    "```\n",
    "The example above is a terrible code meant only to demonstrate that it is possible to create programs that rely on a given number of threads, in this case it must be more than 1. Please use caution when using this code, and don't blame me.\n",
    "```"
   ]
  },
  {
   "cell_type": "code",
   "execution_count": 17,
   "metadata": {},
   "outputs": [],
   "source": [
    "#building the example\n",
    "!clang -fopenmp C/lock_program.c -o C/lock_program.exe"
   ]
  },
  {
   "cell_type": "code",
   "execution_count": 24,
   "metadata": {},
   "outputs": [
    {
     "name": "stdout",
     "output_type": "stream",
     "text": [
      "I'm starting\n",
      "running with 4 threads\n",
      "I'm waiting for any other thread\n",
      "I've finished\n"
     ]
    }
   ],
   "source": [
    "#Executing with many threads\n",
    "!OMP_NUM_THREADS=4 C/./lock_program.exe"
   ]
  },
  {
   "cell_type": "code",
   "execution_count": 25,
   "metadata": {},
   "outputs": [
    {
     "name": "stdout",
     "output_type": "stream",
     "text": [
      "I'm starting\n",
      "running with 1 threads\n",
      "I'm waiting for any other thread\n",
      "Program took too long\n"
     ]
    }
   ],
   "source": [
    "#Executing with timeout to avoid locking this cell\n",
    "!OMP_NUM_THREADS=1 timeout 10 C/./lock_program.exe || if [ $? -eq 124 ]; then echo \"Program took too long\"; fi"
   ]
  },
  {
   "cell_type": "markdown",
   "metadata": {},
   "source": [
    "Therefore, if your program relies on the number of threads, it is preferable to have checks on what would be the number of threads that the parallel region will create. The `omp_get_max_threads()` allows to know how many threads an upcoming parallel region will generate, by checking the current state of the Internal Control Variable (ICV)."
   ]
  },
  {
   "cell_type": "code",
   "execution_count": 26,
   "metadata": {},
   "outputs": [],
   "source": [
    "# Building\n",
    "!clang -fopenmp C/lock_safe_program.c -o C/lock_safe_program.exe"
   ]
  },
  {
   "cell_type": "code",
   "execution_count": 28,
   "metadata": {},
   "outputs": [
    {
     "name": "stdout",
     "output_type": "stream",
     "text": [
      "I'm starting\n",
      "running with 4 threads\n",
      "I'm waiting for any other thread\n",
      "I've finished\n"
     ]
    }
   ],
   "source": [
    "# Running with sufficient threads\n",
    "!OMP_NUM_THREADS=4 C/./lock_safe_program.exe"
   ]
  },
  {
   "cell_type": "code",
   "execution_count": 27,
   "metadata": {},
   "outputs": [
    {
     "name": "stdout",
     "output_type": "stream",
     "text": [
      "Early termination. insufficient number of threads\n"
     ]
    }
   ],
   "source": [
    "# Running without sufficient threads\n",
    "!OMP_NUM_THREADS=1 C/./lock_safe_program.exe"
   ]
  },
  {
   "cell_type": "markdown",
   "metadata": {},
   "source": [
    "Notice how the same code we had before has an early termination check that avoids this issue. Again, this code is for demonstration purposes only, as there are better ways to do this.\n",
    "\n",
    "You can play with these codes going to [lock_program.c](C/lock_program.c) and [lock_safe_program.c](C/lock_safe_program.c)"
   ]
  },
  {
   "cell_type": "markdown",
   "metadata": {},
   "source": []
  },
  {
   "cell_type": "code",
   "execution_count": null,
   "metadata": {},
   "outputs": [],
   "source": []
  }
 ],
 "metadata": {
  "kernelspec": {
   "display_name": "Python 3.8.10 64-bit",
   "language": "python",
   "name": "python3"
  },
  "language_info": {
   "codemirror_mode": {
    "name": "ipython",
    "version": 3
   },
   "file_extension": ".py",
   "mimetype": "text/x-python",
   "name": "python",
   "nbconvert_exporter": "python",
   "pygments_lexer": "ipython3",
   "version": "3.8.10"
  },
  "orig_nbformat": 4,
  "vscode": {
   "interpreter": {
    "hash": "e7370f93d1d0cde622a1f8e1c04877d8463912d04d973331ad4851f04de6915a"
   }
  }
 },
 "nbformat": 4,
 "nbformat_minor": 2
}
