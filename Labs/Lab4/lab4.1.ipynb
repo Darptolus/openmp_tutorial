{
 "cells": [
  {
   "cell_type": "markdown",
   "metadata": {},
   "source": [
    "# Lab 4.1: The offloading model\n",
    "\n",
    "The objective of this lab is to introduce the concept of offloading to accelerator devices. This lab introduces target regions, accelerator devices, and memory management for the device\n",
    "\n",
    "This tutorial is expected to run in a unix-like environment.\n",
    "\n",
    "## Table of content:\n",
    "\n",
    "* Offloading model\n",
    "* Target directive\n",
    "* Memory\n",
    "    * Device memory\n",
    "    * Implicit memory mapping\n",
    "    * Structured memory management\n",
    "    * Unstructured memory management\n"
   ]
  },
  {
   "cell_type": "markdown",
   "metadata": {},
   "source": [
    "# The offloading model\n",
    "\n",
    "OpenMP supports accelerator devies. These are special devices with compute capabilities that are different to the traditional CPU architectures. The most common accelerator devices is the General Purpuse Graphic Processing Unit (GPGPU or simply GPU).\n",
    "\n",
    "Nvidia devices can be discovered using `nvidia-smi` and amd devices using `rocm-info`. Likewise, compilers like LLVM support special commands to obtain the available accelerator devices. This is the case of `llvm-omp-device-info`"
   ]
  },
  {
   "cell_type": "code",
   "execution_count": 1,
   "metadata": {},
   "outputs": [
    {
     "name": "stdout",
     "output_type": "stream",
     "text": [
      "Tue Jun 21 20:11:51 2022       \n",
      "+-----------------------------------------------------------------------------+\n",
      "| NVIDIA-SMI 470.74       Driver Version: 470.74       CUDA Version: 11.4     |\n",
      "|-------------------------------+----------------------+----------------------+\n",
      "| GPU  Name        Persistence-M| Bus-Id        Disp.A | Volatile Uncorr. ECC |\n",
      "| Fan  Temp  Perf  Pwr:Usage/Cap|         Memory-Usage | GPU-Util  Compute M. |\n",
      "|                               |                      |               MIG M. |\n",
      "|===============================+======================+======================|\n",
      "|   0  Quadro P1000        Off  | 00000000:01:00.0 Off |                  N/A |\n",
      "| 27%   44C    P0    N/A /  N/A |      0MiB /  4040MiB |      0%      Default |\n",
      "|                               |                      |                  N/A |\n",
      "+-------------------------------+----------------------+----------------------+\n",
      "                                                                               \n",
      "+-----------------------------------------------------------------------------+\n",
      "| Processes:                                                                  |\n",
      "|  GPU   GI   CI        PID   Type   Process name                  GPU Memory |\n",
      "|        ID   ID                                                   Usage      |\n",
      "|=============================================================================|\n",
      "|  No running processes found                                                 |\n",
      "+-----------------------------------------------------------------------------+\n"
     ]
    }
   ],
   "source": [
    "# If you have an NVIDIA device use\n",
    "!nvidia-smi"
   ]
  },
  {
   "cell_type": "code",
   "execution_count": null,
   "metadata": {},
   "outputs": [],
   "source": [
    "# If you have an AMD device use\n",
    "!rocm-info"
   ]
  },
  {
   "cell_type": "code",
   "execution_count": 17,
   "metadata": {},
   "outputs": [
    {
     "name": "stdout",
     "output_type": "stream",
     "text": [
      "Device (0):\n",
      "    This is a generic-elf-64bit device\n",
      "\n",
      "Device (1):\n",
      "    This is a generic-elf-64bit device\n",
      "\n",
      "Device (2):\n",
      "    This is a generic-elf-64bit device\n",
      "\n",
      "Device (3):\n",
      "    This is a generic-elf-64bit device\n",
      "\n",
      "Device (4):\n",
      "    CUDA Driver Version: \t\t11040 \n",
      "    CUDA Device Number: \t\t0 \n",
      "    Device Name: \t\t\tQuadro P1000 \n",
      "    Global Memory Size: \t\t4236312576 bytes \n",
      "    Number of Multiprocessors: \t\t5 \n",
      "    Concurrent Copy and Execution: \tYes \n",
      "    Total Constant Memory: \t\t65536 bytes\n",
      "    Max Shared Memory per Block: \t49152 bytes \n",
      "    Registers per Block: \t\t65536 \n",
      "    Warp Size: \t\t\t\t32 Threads \n",
      "    Maximum Threads per Block: \t\t1024 \n",
      "    Maximum Block Dimensions: \t\t1024, 1024, 64 \n",
      "    Maximum Grid Dimensions: \t\t2147483647 x 65535 x 65535 \n",
      "    Maximum Memory Pitch: \t\t2147483647 bytes \n",
      "    Texture Alignment: \t\t\t512 bytes \n",
      "    Clock Rate: \t\t\t1480500 kHz\n",
      "    Execution Timeout: \t\t\tNo \n",
      "    Integrated Device: \t\t\tNo \n",
      "    Can Map Host Memory: \t\tYes \n",
      "    Compute Mode: \t\t\tDEFAULT \n",
      "    Concurrent Kernels: \t\tYes \n",
      "    ECC Enabled: \t\t\tNo \n",
      "    Memory Clock Rate: \t\t\t2505000 kHz\n",
      "    Memory Bus Width: \t\t\t128 bits\n",
      "    L2 Cache Size: \t\t\t1048576 bytes \n",
      "    Max Threads Per SMP: \t\t2048 \n",
      "    Async Engines: \t\t\tYes (2) \n",
      "    Unified Addressing: \t\tYes \n",
      "    Managed Memory: \t\t\tYes \n",
      "    Concurrent Managed Memory: \t\tYes \n",
      "    Preemption Supported: \t\tYes \n",
      "    Cooperative Launch: \t\tYes \n",
      "    Multi-Device Boars: \t\tNo \n",
      "    Compute Capabilities: \t\t61 \n",
      "\n"
     ]
    }
   ],
   "source": [
    "# If you're using llvm use\n",
    "!llvm-omp-device-info"
   ]
  },
  {
   "cell_type": "markdown",
   "metadata": {},
   "source": [
    "# Target directive\n",
    "The target directive allows a programmer to use accelerator devices, as long as the device is supported by the implementation. For the remaining of this tutorial we will use LLVM with the Clang front end and it will assume that the device is an NVIDIA device. Other compilers that support OpenMP offloading can be found in the [compilers section of the OpenMP website](https://www.openmp.org/resources/openmp-compilers-tools/).\n",
    "\n",
    "## Our first target program\n",
    "One of the simplest target programs that one can write is the following \n",
    "\n",
    "```C\n",
    "#include <stdio.h>\n",
    "#include <omp.h>\n",
    "\n",
    "int main() {\n",
    "    int a[1] = {0};\n",
    "    #pragma omp target\n",
    "    {\n",
    "        a[0] = omp_is_initial_device();\n",
    "    }\n",
    "    printf(\"Code executed in the %s\\n\",a[0] ? \"Host\":\"Device\");\n",
    "    return 0;\n",
    "}\n",
    "```"
   ]
  },
  {
   "cell_type": "code",
   "execution_count": 21,
   "metadata": {},
   "outputs": [],
   "source": [
    "# Building this code\n",
    "!clang -fopenmp -fopenmp-targets=nvptx64 C/simple_target.c -o C/simple_target.exe"
   ]
  },
  {
   "cell_type": "code",
   "execution_count": 19,
   "metadata": {},
   "outputs": [
    {
     "name": "stdout",
     "output_type": "stream",
     "text": [
      "Code executed in the Host\n"
     ]
    }
   ],
   "source": [
    "# Running the code on the host\n",
    "!OMP_TARGET_OFFLOAD=disabled C/./simple_target.exe"
   ]
  },
  {
   "cell_type": "code",
   "execution_count": 22,
   "metadata": {},
   "outputs": [
    {
     "name": "stdout",
     "output_type": "stream",
     "text": [
      "Code executed in the Device\n"
     ]
    }
   ],
   "source": [
    "# Running the code on the host\n",
    "!OMP_TARGET_OFFLOAD=mandatory C/./simple_target.exe"
   ]
  },
  {
   "cell_type": "markdown",
   "metadata": {},
   "source": [
    "Open and play with this code in [simple_multiple_devices](C/simple_target.c).\n",
    "\n",
    "If the above code fails, there's a problem with your compiler. Please make sure to fix your running environment before continuing this lab.\n",
    "The `OMP_TARGET_OFFLOAD` is an environment variable that allows users to specify if device offloading is enabled, disabled, or mandatory."
   ]
  },
  {
   "cell_type": "markdown",
   "metadata": {},
   "source": [
    "In this example we are cheching where the code was executed by using the API function `omp_is_initial_device()`. This API function returns true if the execution environment is the same device that innitiated the target region, i.e. the host. The `omp target` directive does not expose any parallelism per-se. Instead, it tells the compiler that the enclosed region is meant to execute in the device. The compiler will generate different versions of the same code, for different possible devices. Notice that target regions are not necessarily executed on the accelerator device (i.e. GPU in our case). It is still possible to control if target regions are executed in the host as well. This means that this code has a host version and a device version.\n",
    "\n",
    "```\n",
    "Note: An array of only 1 possition is used instead of a scalar to avoid having to keep the code simple. As we will learn later on, arrays have a default mapping of tofrom, while scalars are firstprivate. Allowing to avoid using explicit data mapping. \n",
    "```"
   ]
  },
  {
   "cell_type": "markdown",
   "metadata": {},
   "source": [
    "## Controling target regions\n",
    "Some important clauses to mention for the target construct are:\n",
    "* `if(condition)`: Allows code to be conditionally executed in the device.\n",
    "* `device(device_num)`: When multiple devices are available, allows to select the different devices\n",
    "* `nowait`: Enables asynchronous execution of code. More on this on a future lab."
   ]
  },
  {
   "cell_type": "markdown",
   "metadata": {},
   "source": [
    "Take for example the following code\n",
    "\n",
    "```C\n",
    "#include <stdio.h>\n",
    "#include <omp.h>\n",
    "\n",
    "int main() {\n",
    "    int num_dev = omp_get_num_devices();\n",
    "    num_dev = num_dev > 10 ? 10 : num_dev;\n",
    "    int device_num[11];\n",
    "    int i;\n",
    "    // Iterate over each available device and execute code\n",
    "    // If i == omp_get_num_devices(), execute on the host.\n",
    "    for (i = 0; i <= num_dev; i++) {\n",
    "        #pragma omp target device(i) if(i != num_dev)\n",
    "        {\n",
    "            device_num[i] = omp_get_device_num();\n",
    "        }\n",
    "    }\n",
    "\n",
    "    // Print which device was used for each region.\n",
    "    for (i = 0; i <= num_dev; i++)\n",
    "        printf(\"Code executed for i = %d in device %d\\n\", i,device_num[i]);\n",
    "    return 0;\n",
    "}\n",
    "```"
   ]
  },
  {
   "cell_type": "code",
   "execution_count": 1,
   "metadata": {},
   "outputs": [],
   "source": [
    "# Building the example\n",
    "!clang -fopenmp -fopenmp-targets=nvptx64 C/simple_multiple_devices.c -o C/simple_multiple_devices.exe"
   ]
  },
  {
   "cell_type": "code",
   "execution_count": 2,
   "metadata": {},
   "outputs": [
    {
     "name": "stdout",
     "output_type": "stream",
     "text": [
      "Code executed for i = 0 in device 0 that is not the initial device\n",
      "Code executed for i = 1 in device 1 that is the initial device\n"
     ]
    }
   ],
   "source": [
    "# Running the example\n",
    "!C/./simple_multiple_devices.exe"
   ]
  },
  {
   "cell_type": "markdown",
   "metadata": {},
   "source": [
    "Open and play with this code in [simple_multiple_devices](C/simple_multiple_devices.c)."
   ]
  },
  {
   "cell_type": "markdown",
   "metadata": {},
   "source": [
    "## Data mapping\n",
    "Often case, devices feature a memory and corresponding address space that is independent from the host. While OpenMP supports `unified address space` and `unified shared memory`, learning to manage data between host and device is really important for application performance. OpenMP refers to **\"mapping\"** as the process of moving variables from the host to the device and from the device to the host, allocating variables and deallocating variables."
   ]
  },
  {
   "cell_type": "markdown",
   "metadata": {},
   "source": [
    "The following example will show that a variable within a target region has a different address value, as long as this code is not executed with unified shared memory support.\n",
    "\n",
    "```C\n",
    "#include <stdio.h>\n",
    "#include <omp.h>\n",
    "\n",
    "int main() {\n",
    "    int a[1];\n",
    "\n",
    "    printf(\"Addres of a in host = %lx\", (unsigned long)a);\n",
    "    \n",
    "    #pragma omp target\n",
    "    {\n",
    "        printf(\"Addres of a in device = %lx\", (unsigned long)a);\n",
    "    }\n",
    "    return 0;\n",
    "}\n",
    "```"
   ]
  },
  {
   "cell_type": "code",
   "execution_count": 33,
   "metadata": {},
   "outputs": [],
   "source": [
    "# Building this code\n",
    "!clang -fopenmp -fopenmp-targets=nvptx64 C/different_addresses.c -o C/different_addresses.exe"
   ]
  },
  {
   "cell_type": "code",
   "execution_count": 34,
   "metadata": {},
   "outputs": [
    {
     "name": "stdout",
     "output_type": "stream",
     "text": [
      "Addres of a in host = 7fffbc7cafa8\n",
      "Addres of a in device = 7fb985a00000\n"
     ]
    }
   ],
   "source": [
    "# Running the code\n",
    "!C/./different_addresses.exe"
   ]
  },
  {
   "cell_type": "markdown",
   "metadata": {},
   "source": [
    "What is important to notice here is that the address of `a` is different in the Host and the Device. If you want to play with this code open [different_addresses.c](C/different_addresses.c)"
   ]
  },
  {
   "cell_type": "markdown",
   "metadata": {},
   "source": [
    "Mapping can be of the form:\n",
    "* `to`: From host to device.\n",
    "* `from`: From device to host.\n",
    "* `tofrom`: Both from host to device at the beginning of the region, and from device to host at the end of the region.\n",
    "* `alloc`: Only allocate memory, but do not copy values over to the device\n",
    "* `delete`: Used with unstructured data mapping (see below). Delete a variable in the device"
   ]
  },
  {
   "cell_type": "markdown",
   "metadata": {},
   "source": [
    "## Implicit data mapping"
   ]
  },
  {
   "cell_type": "markdown",
   "metadata": {},
   "source": [
    "So far all the example codes we have shown do not use the `map()` clause. Whenever a variable is referenced inside of a target region, and this variable is not in a `map()` clause, it is said that this variable is implicitely mapped.\n",
    "\n",
    "Different variable types have different implicit data mappings. While the complete list of rules can be found in the [specification document](https://www.openmp.org/specifications/), here is a set of rules of thumb that developers should follow. "
   ]
  },
  {
   "cell_type": "markdown",
   "metadata": {},
   "source": [
    "### Scalar variables\n",
    "Variables that use scalar data types such as `int`, `double`, `float`, etc are mapped as `firstprivate` by default. Therefore, whenever these variables are implicitely mapped, and modified on the devices, they are not copied back to the host. The following example shows this behavior.\n",
    "\n",
    "```C\n",
    "int a = 10;\n",
    "#pragma omp target // implicit firsprivate(a)\n",
    "{\n",
    "    printf(\"a = %d\\n\",a);\n",
    "    a = 20;\n",
    "}\n",
    "printf(\"a = %d\\n\",a);\n",
    "```"
   ]
  },
  {
   "cell_type": "code",
   "execution_count": 38,
   "metadata": {},
   "outputs": [],
   "source": [
    "# building\n",
    "!clang -fopenmp -fopenmp-targets=nvptx64 C/implicit_map_scalar.c -o C/implicit_map_scalar.exe"
   ]
  },
  {
   "cell_type": "code",
   "execution_count": 39,
   "metadata": {},
   "outputs": [
    {
     "name": "stdout",
     "output_type": "stream",
     "text": [
      "a = 10\n",
      "a = 10\n"
     ]
    }
   ],
   "source": [
    "# Running\n",
    "!C/./implicit_map_scalar.exe"
   ]
  },
  {
   "cell_type": "markdown",
   "metadata": {},
   "source": [
    "Although a is modified in the device, the value `20` is not seen by the host after the target region. Variable `a` is firstprivatized. \n",
    "\n",
    "Use the file [implicit_map_scalar.c](C/implicit_map_scalar.c) to modify and play with the above code."
   ]
  },
  {
   "cell_type": "markdown",
   "metadata": {},
   "source": [
    "### Non scalar types (classes and structs)\n",
    "User defined types in C and C++ are mapped as `map(tofrom:...)` by default. This means that in stand alone target regions, these variables are copied over to the device at the beginning of the region, and from the device to the host at the end of the region.\n",
    "\n",
    "```\n",
    "Note: Be aware that mapping copies contiguous memory regions. Therefore, no deep copy is performed by default. In order to support deep copy the user must either create a \"declare mapper\" or specify mapping of the different attribute memebers. These cases are ignored for now as it is beyond the purpose of this section\n",
    "```\n",
    "The following is an example of a default mapping of an struvct\n",
    "\n",
    "```C\n",
    "typedef struct myS{\n",
    "    int a;\n",
    "    double *b;\n",
    "}myS_t;\n",
    "\n",
    "int main() {\n",
    "    myS_t myStruct = {1, NULL};\n",
    "\n",
    "    myStruct.b = (double *)malloc(sizeof(double));\n",
    "    *(myStruct.b) = 11.1;\n",
    "\n",
    "    printf(\"Host {%d, %lx}\\n\", myStruct.a, myStruct.b);\n",
    "\n",
    "    #pragma omp target // implicit map(tofrom:myStruct). Not implicit map(tofrom:myStruct.b[0:1])\n",
    "    {\n",
    "        myStruct.a = 10;\n",
    "        // printf(\"%f\\n\", myStruct.b); error since b is not deep copied\n",
    "        printf(\"Device {%d, %lx}\\n\", myStruct.a, myStruct.b);\n",
    "    }\n",
    "\n",
    "    printf(\"Host {%d, %lx}\\n\", myStruct.a, myStruct.b);\n",
    "    return 0;\n",
    "}\n",
    "```"
   ]
  },
  {
   "cell_type": "code",
   "execution_count": 43,
   "metadata": {},
   "outputs": [],
   "source": [
    "# building\n",
    "!clang -fopenmp -fopenmp-targets=nvptx64 C/implicit_map_struct.c -o C/implicit_map_struct.exe"
   ]
  },
  {
   "cell_type": "code",
   "execution_count": 44,
   "metadata": {},
   "outputs": [
    {
     "name": "stdout",
     "output_type": "stream",
     "text": [
      "Host {1, 558eb743f030}\n",
      "Device {10, 558eb743f030}\n",
      "Host {10, 558eb743f030}\n"
     ]
    }
   ],
   "source": [
    "# Running\n",
    "!C/./implicit_map_struct.exe"
   ]
  },
  {
   "cell_type": "markdown",
   "metadata": {},
   "source": [
    "Notice how the Device prints the same address for `myStruct.b` in the host and the device. However, when running on a non unified memory address space, this is not a valid pointer in the device. Attempting to reference it could lead to a segmentation fault. \n",
    "\n",
    "Play with this code in [implicit_map_struct.c](C/implicit_map_struct.c)."
   ]
  },
  {
   "cell_type": "markdown",
   "metadata": {},
   "source": [
    "### Arrays (not pointers)\n",
    "\n",
    "Arrays for which the compiler can determine the size are also mapped as `map(tofrom:...)`.\n",
    "\n",
    "```C\n",
    "\n",
    "int main() {\n",
    "    int A[] = {1,2,3};\n",
    "\n",
    "    printf(\"Host {%d, %d, %d}\\n\", A[0],A[1],A[2]);\n",
    "\n",
    "    #pragma omp target // implicit map(tofrom:A[0:3])\n",
    "    {\n",
    "        printf(\"Device {%d, %d, %d}\\n\", A[0],A[1],A[2]);\n",
    "        A[0]++; A[1]++; A[2]++;\n",
    "    }\n",
    "\n",
    "    printf(\"Host {%d, %d, %d}\\n\", A[0],A[1],A[2]);\n",
    "    return 0;\n",
    "}\n",
    "```"
   ]
  },
  {
   "cell_type": "code",
   "execution_count": 45,
   "metadata": {},
   "outputs": [],
   "source": [
    "# building\n",
    "!clang -fopenmp -fopenmp-targets=nvptx64 C/implicit_map_arrays.c -o C/implicit_map_arrays.exe"
   ]
  },
  {
   "cell_type": "code",
   "execution_count": 46,
   "metadata": {},
   "outputs": [
    {
     "name": "stdout",
     "output_type": "stream",
     "text": [
      "Host {1, 2, 3}\n",
      "Device {1, 2, 3}\n",
      "Host {2, 3, 4}\n"
     ]
    }
   ],
   "source": [
    "# Running\n",
    "!C/./implicit_map_arrays.exe"
   ]
  },
  {
   "cell_type": "markdown",
   "metadata": {},
   "source": [
    "To play with this code go to [implicit_map_arrays.c](C/implicit_map_arrays.c)"
   ]
  },
  {
   "cell_type": "markdown",
   "metadata": {},
   "source": [
    "### Pointers\n",
    "\n",
    "Pointers are a special case. Pointers are also mapped `map(tofrom:...)` by default. However, since it is not possible to determine how many elements are pointed by a pointer, the compiler cannot detemrine the size of the map. Pointers are therefore mapped as `tofrom:ptr[0:0]` where `[0:0]` means, starting from the 0 possition, copy 0 elements. This is confusing at first, but it allows the compiler to perform pointer translation when the array has been previously mapped to the device (e.g. using structured or unstructured data mapping as we will see later on). \n",
    "\n",
    "```C\n",
    "\n",
    "int main() {\n",
    "    int *A = (int*) malloc(3*sizeof(int));\n",
    "    A[0] = 1; A[1] = 2; A[2] = 3;\n",
    "\n",
    "    printf(\"Host A = {%d, %d, %d}\\n\", A[0],A[1],A[2]);\n",
    "\n",
    "    #pragma omp target // implicit map(tofrom:A[0:0])\n",
    "    {\n",
    "        // printf(\"Device A = {%d, %d, %d}\\n\", A[0],A[1],A[2]); Error since pointer is not mapped. \n",
    "        // A[0]++; A[1]++; A[2]++; Error since pointer is not mapped\n",
    "        printf(\"Cannot access A[]\\n\");\n",
    "    }\n",
    "\n",
    "    #pragma omp target data map(tofrom: A[0:3])\n",
    "    {\n",
    "        #pragma omp target // implicit mapping map(tofrom:A[0:0])\n",
    "        {\n",
    "            // A is automatically translated to a previously mapped location\n",
    "            printf(\"Device A = {%d, %d, %d}\\n\", A[0],A[1],A[2]); \n",
    "            A[0]++; A[1]++; A[2]++;\n",
    "        }\n",
    "    }\n",
    "\n",
    "    printf(\"Host A = {%d, %d, %d}\\n\", A[0],A[1],A[2]);\n",
    "    return 0;\n",
    "}\n",
    "```"
   ]
  },
  {
   "cell_type": "code",
   "execution_count": 49,
   "metadata": {},
   "outputs": [],
   "source": [
    "# building\n",
    "!clang -fopenmp -fopenmp-targets=nvptx64 C/implicit_map_pointers.c -o C/implicit_map_pointers.exe"
   ]
  },
  {
   "cell_type": "code",
   "execution_count": 50,
   "metadata": {},
   "outputs": [
    {
     "name": "stdout",
     "output_type": "stream",
     "text": [
      "Host A = {1, 2, 3}\n",
      "Cannot access A[]\n",
      "Device A = {1, 2, 3}\n",
      "Host A = {2, 3, 4}\n"
     ]
    }
   ],
   "source": [
    "# Running\n",
    "!C/./implicit_map_pointers.exe"
   ]
  },
  {
   "cell_type": "markdown",
   "metadata": {},
   "source": [
    "The first region uses a default map of A[0:0]. Therefore, no allocation has been made in the target device. Attempting to access A will lead to undefined behavior (likely a segmentation fault). Default mapping of pointers is useful when variables are already in the device, like in the second part of the example. In this case no data movement is made when entering the `target` region, but A inside the target region points to the already mapped variable from the `target data` region. Bear with us a little longer to understand `target data`. \n",
    "\n",
    "To play with this code go to [implicit_map_pointers.c](C/implicit_map_pointers.c)"
   ]
  },
  {
   "cell_type": "markdown",
   "metadata": {},
   "source": [
    "## Explicit data mapping\n",
    "\n",
    "In order to control how variables are mapped to/from the device, the `map()` clause is used. In a target region each variable can be mapped as `to`, `from`, `tofrom`, or `alloc`. To use different mappings for different variables, multiple `map()` clauses can be specified. Likewise, a single `map()` clause can contain multiple variables. Here are some examples:\n",
    "\n",
    "* `map(A)`: Maps variable A `tofrom`.\n",
    "* `map(tofrom: B)`: Maps variable B `tofrom`.\n",
    "* `map(alloc: C, D)`: Maps variable C and D alloc.\n",
    "* `map(from: E) map(to: F)`: Maps variable E as `from` and F as `to`.\n",
    "\n",
    "Let's take a look at these different mappings in action in the following code. Let's ignore the array section notation (i.e. `[:]` and `[0:10]`) as this will be discussed shortly. Can you guess what would be the values of the variables before and after the target region?\n",
    "\n",
    "```C\n",
    "    typedef struct myStr_s{\n",
    "        char a[10];\n",
    "        int b;\n",
    "    }myStr;\n",
    "    ...\n",
    "    \n",
    "    int x = 3;\n",
    "    int y[3] = {1,2,3};\n",
    "    int *z = (int*)malloc(3 * sizeof(int));\n",
    "    z[0] = 1; z[1] = 2; z[2] = 3;\n",
    "    myStr s = {\"aaa\",0};\n",
    "    myStr sa[3] = {{\"hola\", 1},{\"chao\", 2},{\"hello\", 3}};\n",
    "\n",
    "    #pragma omp target          \\\n",
    "            map (alloc: y[:])   \\\n",
    "            map (to: z[0:3])    \\\n",
    "            map (from: sa)\n",
    "    {\n",
    "        x = 44;\n",
    "        y[0] = 1; y[1] = 44; y[2] = 2;\n",
    "        z[0] = 99; z[1] = 44; z[2] = 2;\n",
    "        strcpy(sa[0].a, \"hey\");\n",
    "        sa[0].b = 3;\n",
    "        strcpy(sa[1].a, \"you\");\n",
    "        sa[1].b = 4;\n",
    "        strcpy(sa[2].a, \"there\");\n",
    "        sa[2].b = 5;\n",
    "        strcpy(s.a, \"hi\");\n",
    "        s.b = 42;\n",
    "    }\n",
    "\n",
    "```"
   ]
  },
  {
   "cell_type": "code",
   "execution_count": 62,
   "metadata": {},
   "outputs": [],
   "source": [
    "# building\n",
    "!clang -fopenmp -fopenmp-targets=nvptx64 C/explicit_map.c -o C/explicit_map.exe"
   ]
  },
  {
   "cell_type": "code",
   "execution_count": 63,
   "metadata": {},
   "outputs": [
    {
     "name": "stdout",
     "output_type": "stream",
     "text": [
      "In host: \n",
      "x = 3,\n",
      "y = {1, 2, 3},\n",
      "z = {1, 2, 3},\n",
      "s = {aaa, 0},\n",
      "sa = [{hola, 1},{chao, 2},{hello, 3}]\n",
      "In device:\n",
      "x = 3,\n",
      "y = {0, 0, 0},\n",
      "z = {1, 2, 3},\n",
      "s = {aaa, 0},\n",
      "sa = [{, 0},{, 0},{, 0}]\n",
      "modifying variables\n",
      "In device modified:\n",
      "x = 44,\n",
      "y = {1, 44, 2},\n",
      "z = {99, 44, 2},\n",
      "s = {k, 42},\n",
      "sa = [{h, 3},{y, 4},{t, 5}]\n",
      "In host: \n",
      "x = 3,\n",
      "y = {1, 2, 3},\n",
      "z = {1, 2, 3},\n",
      "s = {k, 42},\n",
      "sa = [{h, 3},{y, 4},{t, 5}]\n"
     ]
    }
   ],
   "source": [
    "# running\n",
    "!C/./explicit_map.exe"
   ]
  },
  {
   "cell_type": "markdown",
   "metadata": {},
   "source": [
    "If you want to play with this code open [explicit_map.c](C/explicit_map.c)\n",
    "The following rules apply:\n",
    "\n",
    "* `x` was mapped as `firsprivate(x)` because of the implicit mapping behavior\n",
    "* `y` was only allocated in the device, but its content only lived in the device. Data was never sent from host to device or the other way around.\n",
    "* `z` was allocated in the device and initialized with the host value. However, modifications in the device were not sent over to the host, because data is not copied back from the device to the host.\n",
    "* `s` was implicitly mapped as `map(tofrom:s)`, therefore, it is allocated in the device, initialized with the host value, and then the host is updated with the device at the end of the target region.\n",
    "* `sa` was allocated in the device but not initialized. Therefore the values that are seeing when printing it the first time inside the device. Values are transfered to the host from the device at the end of the target region, updating the host values. \n",
    "\n",
    "It is important to notice that the char array with static size. In memory these elements are consecutive, and proceded by the integer value of the struct. Memory looks as follows. \n",
    "\n",
    "`| char[0] | char[1] | char[2] | ,,, | char[9] | int |` \n",
    "\n",
    "Mapping copies consecutive memory regions, making it possible to have a copy of the char array. If s.a were a pointer instead of an array, the value would have not been copied."
   ]
  },
  {
   "cell_type": "markdown",
   "metadata": {},
   "source": [
    "# Array sections\n",
    "\n",
    "When mapping arrays, it is possible to only map sections of the array. To do this, OpenMP uses an array section notation with the following syntax:\n",
    "\n",
    "`base_ptr[lower_bound : length : stride]`\n",
    "\n",
    "Currently the LLVM C compiler (*clang*) only supports `lower_bound` and `lenght`.\n",
    "\n",
    "Array sections are useful to map data to different devices, as well as to reduce size of memory copies. Take for example the following code:\n",
    "\n",
    "```C\n",
    "int A[100];\n",
    "for (int i = 0; i < 50; i++)\n",
    "   A[i] = i;\n",
    "\n",
    "#pragma omp target map(to:A[0:50]) map(from:A[50:50])\n",
    "{\n",
    "    for (int i = 50; i < 100; i++) {\n",
    "        A[i] = A[i-50];\n",
    "    }\n",
    "}\n",
    "```\n",
    "\n",
    "In this example, only the first 50 elements of the array A are copied over to the device, and the last 50 elements are copied back from the device."
   ]
  },
  {
   "cell_type": "code",
   "execution_count": 25,
   "metadata": {},
   "outputs": [],
   "source": [
    "# building\n",
    "!clang -fopenmp -fopenmp-targets=nvptx64 C/map_array_sections.c -o C/map_array_sections.exe"
   ]
  },
  {
   "cell_type": "code",
   "execution_count": 26,
   "metadata": {},
   "outputs": [
    {
     "name": "stdout",
     "output_type": "stream",
     "text": [
      "A = [ 0  1  2  3  4  5  6  7  8  9  10  11  12  13  14  15  16  17  18  19  20  21  22  23  24  25  26  27  28  29  30  31  32  33  34  35  36  37  38  39  40  41  42  43  44  45  46  47  48  49  50  51  52  53  54  55  56  57  58  59  60  61  62  63  64  65  66  67  68  69  70  71  72  73  74  75  76  77  78  79  80  81  82  83  84  85  86  87  88  89  90  91  92  93  94  95  96  97  98  99 ]\n",
      "B = [ 0  0  0  0  0  0  0  0  0  0  0  0  0  0  0  0  0  0  0  0  0  0  0  0  0  0  0  0  0  0  0  0  0  0  0  0  0  0  0  0  0  0  0  0  0  0  0  0  0  0  0  0  0  0  0  0  0  0  0  0  0  0  0  0  0  0  0  0  0  0  0  0  0  0  0  0  0  0  0  0  0  0  0  0  0  0  0  0  0  0  0  0  0  0  0  0  0  0  0  0 ]\n",
      "A = [ 0  1  2  3  4  5  6  7  8  9  10  11  12  13  14  15  16  17  18  19  20  21  22  23  24  25  26  27  28  29  30  31  32  33  34  35  36  37  38  39  40  41  42  43  44  45  46  47  48  49  50  51  52  53  54  55  56  57  58  59  60  61  62  63  64  65  66  67  68  69  70  71  72  73  74  75  76  77  78  79  80  81  82  83  84  85  86  87  88  89  90  91  92  93  94  95  96  97  98  99 ]\n",
      "B = [ 0  0  0  0  0  0  0  0  0  0  0  0  0  0  0  0  0  0  0  0  0  0  0  0  0  0  0  0  0  0  0  0  0  0  0  0  0  0  0  0  0  0  0  0  0  0  0  0  0  0  0  1  2  3  4  5  6  7  8  9  10  11  12  13  14  15  16  17  18  19  20  21  22  23  24  25  26  27  28  29  30  31  32  33  34  35  36  37  38  39  40  41  42  43  44  45  46  47  48  49 ]\n"
     ]
    }
   ],
   "source": [
    "# running\n",
    "!C/./map_array_sections.exe"
   ]
  },
  {
   "cell_type": "markdown",
   "metadata": {},
   "source": [
    "If you want to play with this code open [map_array_sections.c](C/map_array_sections.c)"
   ]
  },
  {
   "cell_type": "markdown",
   "metadata": {},
   "source": [
    "## Structured data mapping"
   ]
  },
  {
   "cell_type": "markdown",
   "metadata": {},
   "source": [
    "Structured data mapping refers to a `target data` region, enclosed by a pair of brackets that mark a beginning and end of a data environment. Structured mapping uses the `target data` which is different to the `target` directive. The `target data` directive **do not offload code to the device**, rather, it creates a data environment in the device, allocating variables and moving data between host and device according to the `map()` clauses.\n",
    "\n",
    "Structured data mapping allows to easily understand the scope of variables in the device. However, it can only be used within the same block of code. Therefore, the beginning and end regions cannot exist in different functions.\n",
    "\n",
    "Here's an example:\n",
    "\n",
    "```C\n",
    "int A[100];\n",
    "\n",
    "for (int i = 0; i < 100; i++)\n",
    "       A[i] = i;\n",
    "#pragma omp target data map(tofrom: A)\n",
    "{\n",
    "    for (int i = 0; i < 100; i++) // EXECUTED IN THE HOST\n",
    "       A[i] = 0;\n",
    "}\n",
    "```\n",
    "\n",
    "This example highlights two aspects of the `target data` region. First, the code inside of the `target data` region (unless it is a `target` region itself) is executed in the host. Second, at the end of the target region, data is copied back to the host, when variables are mapped `from`. Therefore, data in the host will be overwritten. \n",
    "\n",
    "What do you think is the value of `A[]` after the end of the `target data` region?"
   ]
  },
  {
   "cell_type": "code",
   "execution_count": 28,
   "metadata": {},
   "outputs": [],
   "source": [
    "# building\n",
    "!clang -fopenmp -fopenmp-targets=nvptx64 C/target_data_simple.c -o C/target_data_simple.exe"
   ]
  },
  {
   "cell_type": "code",
   "execution_count": 29,
   "metadata": {},
   "outputs": [
    {
     "name": "stdout",
     "output_type": "stream",
     "text": [
      "A = [ 0  1  2  3  4  5  6  7  8  9  10  11  12  13  14  15  16  17  18  19  20  21  22  23  24  25  26  27  28  29  30  31  32  33  34  35  36  37  38  39  40  41  42  43  44  45  46  47  48  49  50  51  52  53  54  55  56  57  58  59  60  61  62  63  64  65  66  67  68  69  70  71  72  73  74  75  76  77  78  79  80  81  82  83  84  85  86  87  88  89  90  91  92  93  94  95  96  97  98  99 ]\n",
      "A = [ 0  1  2  3  4  5  6  7  8  9  10  11  12  13  14  15  16  17  18  19  20  21  22  23  24  25  26  27  28  29  30  31  32  33  34  35  36  37  38  39  40  41  42  43  44  45  46  47  48  49  50  51  52  53  54  55  56  57  58  59  60  61  62  63  64  65  66  67  68  69  70  71  72  73  74  75  76  77  78  79  80  81  82  83  84  85  86  87  88  89  90  91  92  93  94  95  96  97  98  99 ]\n"
     ]
    }
   ],
   "source": [
    "# running\n",
    "!C/./target_data_simple.exe"
   ]
  },
  {
   "cell_type": "markdown",
   "metadata": {},
   "source": [
    "The answer is that the modification of A inside of the target data region `A[i] = 0;` is not visible outside of the `target data` region. Because the end of the `target data` region overwrites A again with the value sent to the device in the first place. \n",
    "\n",
    "Play with this code in [target_data_simple.c](C/target_data_simple.c)"
   ]
  },
  {
   "cell_type": "markdown",
   "metadata": {},
   "source": [
    "Now, let's take a look at the effect of using `target data` and how it can help us avoid moving data around. An important rule of thumb when programming accelerator devices is that data movements are often expensive. It is necessary to avoid them as much as possible, and only leave those operations that are absolutely necessary.\n",
    "\n",
    "Take for example the following code. This is often a really common pattern in many applications.\n",
    "\n",
    "```C\n",
    "int A[N];\n",
    "for (int step = 0; step < STEPS; step++)\n",
    "   #pragma omp target\n",
    "   {\n",
    "      foo(A);\n",
    "   }\n",
    "```\n",
    "\n",
    "Each time a new step is executed, the target region will move data from host to the device, and the other way around. These operations add to a considerable overhead.\n",
    "\n",
    "By using `target data` it is possible to create a data environment that remains between multiple executions of the target region. \n",
    "\n",
    "```C\n",
    "int A[N];\n",
    "#pragma target data map(tofrom:A)\n",
    "{\n",
    "for (int step = 0; step < STEPS; step++)\n",
    "   #pragma omp target\n",
    "   {\n",
    "      foo(A);\n",
    "   }\n",
    "}\n",
    "```\n",
    "\n",
    "The OpenMP runtime will only move data at the beginning and at the end of the `target data` region. Let's compare execution times for both."
   ]
  },
  {
   "cell_type": "code",
   "execution_count": 38,
   "metadata": {},
   "outputs": [],
   "source": [
    "# Compiling\n",
    "!clang -fopenmp -fopenmp-targets=nvptx64 C/target_data_simulation.c -o C/target_data_simulation.exe"
   ]
  },
  {
   "cell_type": "code",
   "execution_count": 39,
   "metadata": {},
   "outputs": [
    {
     "name": "stdout",
     "output_type": "stream",
     "text": [
      "Exec time without target data = 2.367565\n",
      "Exec time with target data = 0.485867\n"
     ]
    }
   ],
   "source": [
    "# Running\n",
    "!C/./target_data_simulation.exe"
   ]
  },
  {
   "cell_type": "markdown",
   "metadata": {},
   "source": [
    "Consider that in both cases, the `target` region is doing exactly the same work, moving data back and forth increases the execution time considerably.\n",
    "\n",
    "```\n",
    "Note: We have not exposed parallelism in the GPU so far, so the code from the example above is a really bad example on how to use GPUs, but it emphasizes the importance of data movements for computation. \n",
    "```\n",
    "\n",
    "Play with this code opening the file [target_data_simulation.c](C/target_data_simulation.c)"
   ]
  },
  {
   "cell_type": "markdown",
   "metadata": {},
   "source": []
  }
 ],
 "metadata": {
  "kernelspec": {
   "display_name": "Python 3.8.10 64-bit",
   "language": "python",
   "name": "python3"
  },
  "language_info": {
   "codemirror_mode": {
    "name": "ipython",
    "version": 3
   },
   "file_extension": ".py",
   "mimetype": "text/x-python",
   "name": "python",
   "nbconvert_exporter": "python",
   "pygments_lexer": "ipython3",
   "version": "3.8.10"
  },
  "orig_nbformat": 4,
  "vscode": {
   "interpreter": {
    "hash": "e7370f93d1d0cde622a1f8e1c04877d8463912d04d973331ad4851f04de6915a"
   }
  }
 },
 "nbformat": 4,
 "nbformat_minor": 2
}
