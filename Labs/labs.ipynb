{
 "cells": [
  {
   "cell_type": "markdown",
   "metadata": {},
   "source": [
    "# Labs for the OpenMP Tutorial\n",
    "\n",
    "Open the different labs and follow the instructions\n",
    "\n",
    "* [Lab 1](Lab1/lab1.ipynb)"
   ]
  }
 ],
 "metadata": {
  "language_info": {
   "name": "python"
  },
  "orig_nbformat": 4
 },
 "nbformat": 4,
 "nbformat_minor": 2
}
